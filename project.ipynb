{
 "cells": [
  {
   "cell_type": "markdown",
   "id": "243fbdfd-b5ac-42ef-9c39-2d5f216651b7",
   "metadata": {},
   "source": [
    "# INTRODUCTION ;"
   ]
  },
  {
   "cell_type": "markdown",
   "id": "8ff54204-d444-480e-8443-c7a4a28be357",
   "metadata": {},
   "source": [
    "\n",
    "\n",
    "In this project, we aim to provide actionable insights for a business stakeholder looking to mitigate risks in a new business venture. By leveraging skills in data cleaning, imputation, analysis, and visualization, we will generate data-driven insights to guide decision-making in the aviation industry. The goal is to determine which aircraft present the lowest risk for purchase and operation, thereby supporting the company's strategic diversification efforts.\n"
   ]
  },
  {
   "cell_type": "markdown",
   "id": "650d3d0b-5c01-4a3f-8678-07c90754cb63",
   "metadata": {},
   "source": [
    "## BUSINESS PROBLEM ;"
   ]
  },
  {
   "cell_type": "markdown",
   "id": "88a078b7-174a-482e-9ee3-6156a4fe8737",
   "metadata": {},
   "source": [
    "As part of its diversification strategy, the company is exploring new industries to expand its portfolio. Currently, the focus is on entering the aviation industry, specifically in purchasing and operating aircraft for both commercial and private enterprises. The critical business problem is to identify the aircraft that pose the lowest risk, enabling the company to make informed decisions in this new market segment."
   ]
  },
  {
   "cell_type": "markdown",
   "id": "956b1e6c-3745-4806-b742-ee4b80e72408",
   "metadata": {},
   "source": [
    "## BUSINESS UNDERSTANDING"
   ]
  },
  {
   "cell_type": "markdown",
   "id": "cb5a3b87-2069-4dce-85cb-ff9470fe46dc",
   "metadata": {},
   "source": [
    "### Main Objective"
   ]
  },
  {
   "cell_type": "markdown",
   "id": "e447984d-431b-4ae1-8684-d4fe35e9ef12",
   "metadata": {},
   "source": [
    "\n",
    " \n",
    "Which aircraft present the lowest risk for purchase and operation, thereby supporting the company's strategic diversification efforts?\n"
   ]
  },
  {
   "cell_type": "markdown",
   "id": "1aab1b80-b16f-4d55-a755-b0a4ebdaedeb",
   "metadata": {},
   "source": [
    "### Specific Objectives"
   ]
  },
  {
   "cell_type": "markdown",
   "id": "c2578a09-c48c-45ee-9d86-b608c866c2d5",
   "metadata": {},
   "source": [
    " 1. Which Aircraft is less vulnerable to accidents?\n",
    " 2. Which Aircraft to be used for commercial enterprise and which to be used for private enterprises?\n"
   ]
  },
  {
   "cell_type": "markdown",
   "id": "25335441-cc0d-4247-a52e-53844cfe384e",
   "metadata": {},
   "source": [
    "## DATA UNDERSTANDING:"
   ]
  },
  {
   "cell_type": "markdown",
   "id": "1037d739-8a22-41ff-980d-ea1fbcfe5b16",
   "metadata": {},
   "source": [
    "In this project we shall work with a dataset from Kaggle obtained by the National Transportation Safety Board, which contains Aviation accident data from 1962 -2023."
   ]
  },
  {
   "cell_type": "markdown",
   "id": "c0797a11-0682-4dc4-9a5c-5e1704b68fc0",
   "metadata": {},
   "source": [
    "## Data & Libraries Importation\n"
   ]
  },
  {
   "cell_type": "code",
   "execution_count": 58,
   "id": "a40431d9-2f01-4fd5-a9ea-18b97560eeb8",
   "metadata": {},
   "outputs": [],
   "source": [
    "import pandas as pd\n",
    "import matplotlib.pyplot as plt\n",
    "%matplotlib inline\n",
    "import numpy as np\n",
    "import seaborn as sns"
   ]
  },
  {
   "cell_type": "markdown",
   "id": "ba52a96c-3924-4786-a114-421e429802ab",
   "metadata": {},
   "source": [
    "### Loading the data"
   ]
  },
  {
   "cell_type": "markdown",
   "id": "e4aaaf81-e789-48b3-94b2-a853f2c747b2",
   "metadata": {},
   "source": [
    "To import the dataset from the CSV file and store it in a variable df"
   ]
  },
  {
   "cell_type": "code",
   "execution_count": 2,
   "id": "2fa67593-5ad8-47bb-b389-d5c73897e17c",
   "metadata": {},
   "outputs": [
    {
     "data": {
      "text/html": [
       "<div>\n",
       "<style scoped>\n",
       "    .dataframe tbody tr th:only-of-type {\n",
       "        vertical-align: middle;\n",
       "    }\n",
       "\n",
       "    .dataframe tbody tr th {\n",
       "        vertical-align: top;\n",
       "    }\n",
       "\n",
       "    .dataframe thead th {\n",
       "        text-align: right;\n",
       "    }\n",
       "</style>\n",
       "<table border=\"1\" class=\"dataframe\">\n",
       "  <thead>\n",
       "    <tr style=\"text-align: right;\">\n",
       "      <th></th>\n",
       "      <th>Event.Id</th>\n",
       "      <th>Investigation.Type</th>\n",
       "      <th>Accident.Number</th>\n",
       "      <th>Event.Date</th>\n",
       "      <th>Location</th>\n",
       "      <th>Country</th>\n",
       "      <th>Latitude</th>\n",
       "      <th>Longitude</th>\n",
       "      <th>Airport.Code</th>\n",
       "      <th>Airport.Name</th>\n",
       "      <th>...</th>\n",
       "      <th>Purpose.of.flight</th>\n",
       "      <th>Air.carrier</th>\n",
       "      <th>Total.Fatal.Injuries</th>\n",
       "      <th>Total.Serious.Injuries</th>\n",
       "      <th>Total.Minor.Injuries</th>\n",
       "      <th>Total.Uninjured</th>\n",
       "      <th>Weather.Condition</th>\n",
       "      <th>Broad.phase.of.flight</th>\n",
       "      <th>Report.Status</th>\n",
       "      <th>Publication.Date</th>\n",
       "    </tr>\n",
       "  </thead>\n",
       "  <tbody>\n",
       "    <tr>\n",
       "      <th>0</th>\n",
       "      <td>20001218X45444</td>\n",
       "      <td>Accident</td>\n",
       "      <td>SEA87LA080</td>\n",
       "      <td>1948-10-24</td>\n",
       "      <td>MOOSE CREEK, ID</td>\n",
       "      <td>United States</td>\n",
       "      <td>NaN</td>\n",
       "      <td>NaN</td>\n",
       "      <td>NaN</td>\n",
       "      <td>NaN</td>\n",
       "      <td>...</td>\n",
       "      <td>Personal</td>\n",
       "      <td>NaN</td>\n",
       "      <td>2.0</td>\n",
       "      <td>0.0</td>\n",
       "      <td>0.0</td>\n",
       "      <td>0.0</td>\n",
       "      <td>UNK</td>\n",
       "      <td>Cruise</td>\n",
       "      <td>Probable Cause</td>\n",
       "      <td>NaN</td>\n",
       "    </tr>\n",
       "    <tr>\n",
       "      <th>1</th>\n",
       "      <td>20001218X45447</td>\n",
       "      <td>Accident</td>\n",
       "      <td>LAX94LA336</td>\n",
       "      <td>1962-07-19</td>\n",
       "      <td>BRIDGEPORT, CA</td>\n",
       "      <td>United States</td>\n",
       "      <td>NaN</td>\n",
       "      <td>NaN</td>\n",
       "      <td>NaN</td>\n",
       "      <td>NaN</td>\n",
       "      <td>...</td>\n",
       "      <td>Personal</td>\n",
       "      <td>NaN</td>\n",
       "      <td>4.0</td>\n",
       "      <td>0.0</td>\n",
       "      <td>0.0</td>\n",
       "      <td>0.0</td>\n",
       "      <td>UNK</td>\n",
       "      <td>Unknown</td>\n",
       "      <td>Probable Cause</td>\n",
       "      <td>19-09-1996</td>\n",
       "    </tr>\n",
       "    <tr>\n",
       "      <th>2</th>\n",
       "      <td>20061025X01555</td>\n",
       "      <td>Accident</td>\n",
       "      <td>NYC07LA005</td>\n",
       "      <td>1974-08-30</td>\n",
       "      <td>Saltville, VA</td>\n",
       "      <td>United States</td>\n",
       "      <td>36.922223</td>\n",
       "      <td>-81.878056</td>\n",
       "      <td>NaN</td>\n",
       "      <td>NaN</td>\n",
       "      <td>...</td>\n",
       "      <td>Personal</td>\n",
       "      <td>NaN</td>\n",
       "      <td>3.0</td>\n",
       "      <td>NaN</td>\n",
       "      <td>NaN</td>\n",
       "      <td>NaN</td>\n",
       "      <td>IMC</td>\n",
       "      <td>Cruise</td>\n",
       "      <td>Probable Cause</td>\n",
       "      <td>26-02-2007</td>\n",
       "    </tr>\n",
       "    <tr>\n",
       "      <th>3</th>\n",
       "      <td>20001218X45448</td>\n",
       "      <td>Accident</td>\n",
       "      <td>LAX96LA321</td>\n",
       "      <td>1977-06-19</td>\n",
       "      <td>EUREKA, CA</td>\n",
       "      <td>United States</td>\n",
       "      <td>NaN</td>\n",
       "      <td>NaN</td>\n",
       "      <td>NaN</td>\n",
       "      <td>NaN</td>\n",
       "      <td>...</td>\n",
       "      <td>Personal</td>\n",
       "      <td>NaN</td>\n",
       "      <td>2.0</td>\n",
       "      <td>0.0</td>\n",
       "      <td>0.0</td>\n",
       "      <td>0.0</td>\n",
       "      <td>IMC</td>\n",
       "      <td>Cruise</td>\n",
       "      <td>Probable Cause</td>\n",
       "      <td>12-09-2000</td>\n",
       "    </tr>\n",
       "    <tr>\n",
       "      <th>4</th>\n",
       "      <td>20041105X01764</td>\n",
       "      <td>Accident</td>\n",
       "      <td>CHI79FA064</td>\n",
       "      <td>1979-08-02</td>\n",
       "      <td>Canton, OH</td>\n",
       "      <td>United States</td>\n",
       "      <td>NaN</td>\n",
       "      <td>NaN</td>\n",
       "      <td>NaN</td>\n",
       "      <td>NaN</td>\n",
       "      <td>...</td>\n",
       "      <td>Personal</td>\n",
       "      <td>NaN</td>\n",
       "      <td>1.0</td>\n",
       "      <td>2.0</td>\n",
       "      <td>NaN</td>\n",
       "      <td>0.0</td>\n",
       "      <td>VMC</td>\n",
       "      <td>Approach</td>\n",
       "      <td>Probable Cause</td>\n",
       "      <td>16-04-1980</td>\n",
       "    </tr>\n",
       "  </tbody>\n",
       "</table>\n",
       "<p>5 rows × 31 columns</p>\n",
       "</div>"
      ],
      "text/plain": [
       "         Event.Id Investigation.Type Accident.Number  Event.Date  \\\n",
       "0  20001218X45444           Accident      SEA87LA080  1948-10-24   \n",
       "1  20001218X45447           Accident      LAX94LA336  1962-07-19   \n",
       "2  20061025X01555           Accident      NYC07LA005  1974-08-30   \n",
       "3  20001218X45448           Accident      LAX96LA321  1977-06-19   \n",
       "4  20041105X01764           Accident      CHI79FA064  1979-08-02   \n",
       "\n",
       "          Location        Country   Latitude   Longitude Airport.Code  \\\n",
       "0  MOOSE CREEK, ID  United States        NaN         NaN          NaN   \n",
       "1   BRIDGEPORT, CA  United States        NaN         NaN          NaN   \n",
       "2    Saltville, VA  United States  36.922223  -81.878056          NaN   \n",
       "3       EUREKA, CA  United States        NaN         NaN          NaN   \n",
       "4       Canton, OH  United States        NaN         NaN          NaN   \n",
       "\n",
       "  Airport.Name  ... Purpose.of.flight Air.carrier Total.Fatal.Injuries  \\\n",
       "0          NaN  ...          Personal         NaN                  2.0   \n",
       "1          NaN  ...          Personal         NaN                  4.0   \n",
       "2          NaN  ...          Personal         NaN                  3.0   \n",
       "3          NaN  ...          Personal         NaN                  2.0   \n",
       "4          NaN  ...          Personal         NaN                  1.0   \n",
       "\n",
       "  Total.Serious.Injuries Total.Minor.Injuries Total.Uninjured  \\\n",
       "0                    0.0                  0.0             0.0   \n",
       "1                    0.0                  0.0             0.0   \n",
       "2                    NaN                  NaN             NaN   \n",
       "3                    0.0                  0.0             0.0   \n",
       "4                    2.0                  NaN             0.0   \n",
       "\n",
       "  Weather.Condition  Broad.phase.of.flight   Report.Status Publication.Date  \n",
       "0               UNK                 Cruise  Probable Cause              NaN  \n",
       "1               UNK                Unknown  Probable Cause       19-09-1996  \n",
       "2               IMC                 Cruise  Probable Cause       26-02-2007  \n",
       "3               IMC                 Cruise  Probable Cause       12-09-2000  \n",
       "4               VMC               Approach  Probable Cause       16-04-1980  \n",
       "\n",
       "[5 rows x 31 columns]"
      ]
     },
     "execution_count": 2,
     "metadata": {},
     "output_type": "execute_result"
    }
   ],
   "source": [
    "df = pd.read_csv('C:/Users/ADMIN/Documents/Moringa/Phase1/Project1/First-Project/Aviation Data/AviationData.csv', encoding='ISO-8859-1', low_memory=False)\n",
    "df.head()\n",
    "\n"
   ]
  },
  {
   "cell_type": "markdown",
   "id": "15489f2b-d83e-4ef3-9d96-86fe63010aa3",
   "metadata": {},
   "source": [
    " #  Data Wrangling"
   ]
  },
  {
   "cell_type": "code",
   "execution_count": 3,
   "id": "0d2a1393-b30b-45ef-8705-f6acc978246e",
   "metadata": {},
   "outputs": [
    {
     "data": {
      "text/plain": [
       "False    88889\n",
       "Name: count, dtype: int64"
      ]
     },
     "execution_count": 3,
     "metadata": {},
     "output_type": "execute_result"
    }
   ],
   "source": [
    "#Checking duplicated values\n",
    "df.duplicated().value_counts()"
   ]
  },
  {
   "cell_type": "code",
   "execution_count": 4,
   "id": "90f2dc74-3b73-4b91-bbfd-db62a6527631",
   "metadata": {},
   "outputs": [
    {
     "data": {
      "text/plain": [
       "(88889, 31)"
      ]
     },
     "execution_count": 4,
     "metadata": {},
     "output_type": "execute_result"
    }
   ],
   "source": [
    "df.shape"
   ]
  },
  {
   "cell_type": "markdown",
   "id": "d3d6021e-10b7-406a-acf5-4c2f7b589f9b",
   "metadata": {},
   "source": [
    "The dataset has 88,889 records and 31 columns."
   ]
  },
  {
   "cell_type": "code",
   "execution_count": 5,
   "id": "96160c29-d301-4688-b692-bbf548d66ad0",
   "metadata": {},
   "outputs": [
    {
     "data": {
      "text/plain": [
       "Index(['Event.Id', 'Investigation.Type', 'Accident.Number', 'Event.Date',\n",
       "       'Location', 'Country', 'Latitude', 'Longitude', 'Airport.Code',\n",
       "       'Airport.Name', 'Injury.Severity', 'Aircraft.damage',\n",
       "       'Aircraft.Category', 'Registration.Number', 'Make', 'Model',\n",
       "       'Amateur.Built', 'Number.of.Engines', 'Engine.Type', 'FAR.Description',\n",
       "       'Schedule', 'Purpose.of.flight', 'Air.carrier', 'Total.Fatal.Injuries',\n",
       "       'Total.Serious.Injuries', 'Total.Minor.Injuries', 'Total.Uninjured',\n",
       "       'Weather.Condition', 'Broad.phase.of.flight', 'Report.Status',\n",
       "       'Publication.Date'],\n",
       "      dtype='object')"
      ]
     },
     "execution_count": 5,
     "metadata": {},
     "output_type": "execute_result"
    }
   ],
   "source": [
    "df.columns"
   ]
  },
  {
   "cell_type": "code",
   "execution_count": 6,
   "id": "503786ac-358e-49fc-b466-ceb87ed509d8",
   "metadata": {},
   "outputs": [],
   "source": [
    "#dropping of unnecessary columns for our analysis\n",
    "df.drop(labels = ['Investigation.Type','Accident.Number', 'Location', 'Country', 'Latitude', 'Longitude', 'Airport.Code',\n",
    "                  'Airport.Name', 'Injury.Severity','Amateur.Built','FAR.Description','Air.carrier', 'Total.Fatal.Injuries',\n",
    "                  'Total.Serious.Injuries', 'Total.Minor.Injuries', 'Total.Uninjured','Publication.Date',\n",
    "                  'Schedule',],inplace = True , axis = 1)"
   ]
  },
  {
   "cell_type": "code",
   "execution_count": 7,
   "id": "c44aefc2-f61c-4165-8d59-d5176904a3d1",
   "metadata": {},
   "outputs": [
    {
     "data": {
      "text/plain": [
       "(88889, 13)"
      ]
     },
     "execution_count": 7,
     "metadata": {},
     "output_type": "execute_result"
    }
   ],
   "source": [
    "df.columns\n",
    "df.shape"
   ]
  },
  {
   "cell_type": "code",
   "execution_count": 8,
   "id": "c34b94f9-cad7-4e5e-8986-05437a839e23",
   "metadata": {},
   "outputs": [
    {
     "data": {
      "text/plain": [
       "Event.Id                     0\n",
       "Event.Date                   0\n",
       "Aircraft.damage           3194\n",
       "Aircraft.Category        56602\n",
       "Registration.Number       1382\n",
       "Make                        63\n",
       "Model                       92\n",
       "Number.of.Engines         6084\n",
       "Engine.Type               7096\n",
       "Purpose.of.flight         6192\n",
       "Weather.Condition         4492\n",
       "Broad.phase.of.flight    27165\n",
       "Report.Status             6384\n",
       "dtype: int64"
      ]
     },
     "execution_count": 8,
     "metadata": {},
     "output_type": "execute_result"
    }
   ],
   "source": [
    "#checking of missing values\n",
    "df.isna().sum()"
   ]
  },
  {
   "cell_type": "markdown",
   "id": "440d151e-313e-4409-b6ef-81fdac18ef07",
   "metadata": {},
   "source": [
    "## Identifying the unique values"
   ]
  },
  {
   "cell_type": "code",
   "execution_count": 9,
   "id": "29808f1f-154e-47d5-9eb6-92828bbbf556",
   "metadata": {},
   "outputs": [
    {
     "data": {
      "text/plain": [
       "array([nan, 'Airplane', 'Helicopter', 'Glider', 'Balloon', 'Gyrocraft',\n",
       "       'Ultralight', 'Unknown', 'Blimp', 'Powered-Lift', 'Weight-Shift',\n",
       "       'Powered Parachute', 'Rocket', 'WSFT', 'UNK', 'ULTR'], dtype=object)"
      ]
     },
     "execution_count": 9,
     "metadata": {},
     "output_type": "execute_result"
    }
   ],
   "source": [
    "df['Aircraft.Category'].unique()"
   ]
  },
  {
   "cell_type": "code",
   "execution_count": 10,
   "id": "2ccae222-17e0-4cd4-962d-d0a41b5b2a54",
   "metadata": {},
   "outputs": [
    {
     "data": {
      "text/plain": [
       "array(['Cruise', 'Unknown', 'Approach', 'Climb', 'Takeoff', 'Landing',\n",
       "       'Taxi', 'Descent', 'Maneuvering', 'Standing', 'Go-around', 'Other',\n",
       "       nan], dtype=object)"
      ]
     },
     "execution_count": 10,
     "metadata": {},
     "output_type": "execute_result"
    }
   ],
   "source": [
    "df['Broad.phase.of.flight'].unique()"
   ]
  },
  {
   "cell_type": "code",
   "execution_count": 11,
   "id": "6343d9d8-5e39-4e00-99d2-804bfb96fccb",
   "metadata": {},
   "outputs": [
    {
     "data": {
      "text/plain": [
       "array(['Destroyed', 'Substantial', 'Minor', nan, 'Unknown'], dtype=object)"
      ]
     },
     "execution_count": 11,
     "metadata": {},
     "output_type": "execute_result"
    }
   ],
   "source": [
    "df['Aircraft.damage'].unique()"
   ]
  },
  {
   "cell_type": "code",
   "execution_count": 12,
   "id": "b7c61878-41f0-4385-aec9-0588404026d3",
   "metadata": {},
   "outputs": [
    {
     "data": {
      "text/plain": [
       "array(['Stinson', 'Piper', 'Cessna', ..., 'JAMES R DERNOVSEK',\n",
       "       'ORLICAN S R O', 'ROYSE RALPH L'], dtype=object)"
      ]
     },
     "execution_count": 12,
     "metadata": {},
     "output_type": "execute_result"
    }
   ],
   "source": [
    "df['Make'].unique()"
   ]
  },
  {
   "cell_type": "code",
   "execution_count": 13,
   "id": "256f37ed-c277-42ed-80b6-b211c91188cb",
   "metadata": {},
   "outputs": [
    {
     "data": {
      "text/plain": [
       "array(['108-3', 'PA24-180', '172M', ..., 'ROTORWAY EXEC 162-F',\n",
       "       'KITFOX S5', 'M-8 EAGLE'], dtype=object)"
      ]
     },
     "execution_count": 13,
     "metadata": {},
     "output_type": "execute_result"
    }
   ],
   "source": [
    "df['Model'].unique()"
   ]
  },
  {
   "cell_type": "code",
   "execution_count": 14,
   "id": "428ead9f-543b-451e-b095-cf7e41cf3c56",
   "metadata": {},
   "outputs": [
    {
     "data": {
      "text/plain": [
       "array(['Personal', nan, 'Business', 'Instructional', 'Unknown', 'Ferry',\n",
       "       'Executive/corporate', 'Aerial Observation', 'Aerial Application',\n",
       "       'Public Aircraft', 'Skydiving', 'Other Work Use', 'Positioning',\n",
       "       'Flight Test', 'Air Race/show', 'Air Drop',\n",
       "       'Public Aircraft - Federal', 'Glider Tow',\n",
       "       'Public Aircraft - Local', 'External Load',\n",
       "       'Public Aircraft - State', 'Banner Tow', 'Firefighting',\n",
       "       'Air Race show', 'PUBS', 'ASHO', 'PUBL'], dtype=object)"
      ]
     },
     "execution_count": 14,
     "metadata": {},
     "output_type": "execute_result"
    }
   ],
   "source": [
    "df['Purpose.of.flight'].unique()"
   ]
  },
  {
   "cell_type": "code",
   "execution_count": 15,
   "id": "bad494b3-c71c-4a50-810f-6c51edb2ae8e",
   "metadata": {},
   "outputs": [
    {
     "data": {
      "text/plain": [
       "array(['UNK', 'IMC', 'VMC', nan, 'Unk'], dtype=object)"
      ]
     },
     "execution_count": 15,
     "metadata": {},
     "output_type": "execute_result"
    }
   ],
   "source": [
    "df['Weather.Condition'].unique()"
   ]
  },
  {
   "cell_type": "code",
   "execution_count": 16,
   "id": "ee671bb6-b6a8-42a8-82d6-b1cee7f8acda",
   "metadata": {},
   "outputs": [
    {
     "data": {
      "text/plain": [
       "array(['Probable Cause', 'Factual', 'Foreign', ...,\n",
       "       'The pilot did not ensure adequate clearance from construction vehicles during taxi.',\n",
       "       'The pilot\\x92s failure to secure the magneto switch before attempting to hand rotate the engine which resulted in an inadvertent engine start, a runaway airplane, and subsequent impact with parked airplanes. Contributing to the accident was the failure to properly secure the airplane with chocks.',\n",
       "       'The pilot\\x92s loss of control due to a wind gust during landing.'],\n",
       "      dtype=object)"
      ]
     },
     "execution_count": 16,
     "metadata": {},
     "output_type": "execute_result"
    }
   ],
   "source": [
    "df['Report.Status'].unique()"
   ]
  },
  {
   "cell_type": "markdown",
   "id": "bbe8a28e-8d05-41e6-8b52-bc7eb98ec893",
   "metadata": {},
   "source": [
    "## Dealing with Duplicates"
   ]
  },
  {
   "cell_type": "code",
   "execution_count": 17,
   "id": "4329685e-855c-40c6-948e-55c3b850b2f1",
   "metadata": {},
   "outputs": [
    {
     "data": {
      "text/html": [
       "<div>\n",
       "<style scoped>\n",
       "    .dataframe tbody tr th:only-of-type {\n",
       "        vertical-align: middle;\n",
       "    }\n",
       "\n",
       "    .dataframe tbody tr th {\n",
       "        vertical-align: top;\n",
       "    }\n",
       "\n",
       "    .dataframe thead th {\n",
       "        text-align: right;\n",
       "    }\n",
       "</style>\n",
       "<table border=\"1\" class=\"dataframe\">\n",
       "  <thead>\n",
       "    <tr style=\"text-align: right;\">\n",
       "      <th></th>\n",
       "      <th>Event.Id</th>\n",
       "      <th>Event.Date</th>\n",
       "      <th>Aircraft.damage</th>\n",
       "      <th>Aircraft.Category</th>\n",
       "      <th>Registration.Number</th>\n",
       "      <th>Make</th>\n",
       "      <th>Model</th>\n",
       "      <th>Number.of.Engines</th>\n",
       "      <th>Engine.Type</th>\n",
       "      <th>Purpose.of.flight</th>\n",
       "      <th>Weather.Condition</th>\n",
       "      <th>Broad.phase.of.flight</th>\n",
       "      <th>Report.Status</th>\n",
       "    </tr>\n",
       "  </thead>\n",
       "  <tbody>\n",
       "  </tbody>\n",
       "</table>\n",
       "</div>"
      ],
      "text/plain": [
       "Empty DataFrame\n",
       "Columns: [Event.Id, Event.Date, Aircraft.damage, Aircraft.Category, Registration.Number, Make, Model, Number.of.Engines, Engine.Type, Purpose.of.flight, Weather.Condition, Broad.phase.of.flight, Report.Status]\n",
       "Index: []"
      ]
     },
     "execution_count": 17,
     "metadata": {},
     "output_type": "execute_result"
    }
   ],
   "source": [
    "#checking for duplicates and visually inspecting them\n",
    "df[df.duplicated(keep =False)]"
   ]
  },
  {
   "cell_type": "markdown",
   "id": "54f3ee91-5bef-4174-a15e-bd4eded3f0de",
   "metadata": {},
   "source": [
    " After a visual exploration a decision of dropping the duplicate values was relevant"
   ]
  },
  {
   "cell_type": "code",
   "execution_count": 18,
   "id": "081f4804-a86b-4c23-8231-f5a4f0299b22",
   "metadata": {},
   "outputs": [],
   "source": [
    "# Dropping duplicate values\n",
    "df = df.drop_duplicates()"
   ]
  },
  {
   "cell_type": "code",
   "execution_count": 19,
   "id": "e1cf045c-2f42-47a2-b6c8-6c9a2d5bc210",
   "metadata": {},
   "outputs": [
    {
     "data": {
      "text/plain": [
       "(88889, 13)"
      ]
     },
     "execution_count": 19,
     "metadata": {},
     "output_type": "execute_result"
    }
   ],
   "source": [
    "df.shape"
   ]
  },
  {
   "cell_type": "markdown",
   "id": "79926f11-69d6-4acb-916b-4fa37fbed56d",
   "metadata": {},
   "source": [
    "## Dealing with missing values"
   ]
  },
  {
   "cell_type": "code",
   "execution_count": 20,
   "id": "fa05cada-a293-4389-9803-cae0f8a42194",
   "metadata": {},
   "outputs": [
    {
     "data": {
      "text/plain": [
       "Event.Id                     0\n",
       "Event.Date                   0\n",
       "Aircraft.damage           3194\n",
       "Aircraft.Category        56602\n",
       "Registration.Number       1382\n",
       "Make                        63\n",
       "Model                       92\n",
       "Number.of.Engines         6084\n",
       "Engine.Type               7096\n",
       "Purpose.of.flight         6192\n",
       "Weather.Condition         4492\n",
       "Broad.phase.of.flight    27165\n",
       "Report.Status             6384\n",
       "dtype: int64"
      ]
     },
     "execution_count": 20,
     "metadata": {},
     "output_type": "execute_result"
    }
   ],
   "source": [
    "df.isna().sum()"
   ]
  },
  {
   "cell_type": "code",
   "execution_count": 21,
   "id": "0071c14f-25af-4503-b80e-d8b66b0ecdde",
   "metadata": {},
   "outputs": [
    {
     "data": {
      "text/plain": [
       "Aircraft.damage\n",
       "Substantial    64148\n",
       "Destroyed      18623\n",
       "Minor           2805\n",
       "Unknown          119\n",
       "Name: count, dtype: int64"
      ]
     },
     "execution_count": 21,
     "metadata": {},
     "output_type": "execute_result"
    }
   ],
   "source": [
    "df['Aircraft.damage'].value_counts()"
   ]
  },
  {
   "cell_type": "code",
   "execution_count": 22,
   "id": "8395f741-c930-4d1e-ae30-ac8d59b7a48d",
   "metadata": {},
   "outputs": [],
   "source": [
    "df.fillna({'Aircraft.damage': 'Unknown'}, inplace=True)"
   ]
  },
  {
   "cell_type": "code",
   "execution_count": 23,
   "id": "9d3d0b37-94af-4372-b5ff-96f3c152115b",
   "metadata": {},
   "outputs": [
    {
     "data": {
      "text/plain": [
       "array(['Destroyed', 'Substantial', 'Minor', 'Unknown'], dtype=object)"
      ]
     },
     "execution_count": 23,
     "metadata": {},
     "output_type": "execute_result"
    }
   ],
   "source": [
    "df['Aircraft.damage'].unique()"
   ]
  },
  {
   "cell_type": "code",
   "execution_count": 24,
   "id": "425321e2-11fe-4845-8ee6-00e4c2344cb9",
   "metadata": {},
   "outputs": [
    {
     "data": {
      "text/plain": [
       "Aircraft.damage\n",
       "Substantial    64148\n",
       "Destroyed      18623\n",
       "Unknown         3313\n",
       "Minor           2805\n",
       "Name: count, dtype: int64"
      ]
     },
     "execution_count": 24,
     "metadata": {},
     "output_type": "execute_result"
    }
   ],
   "source": [
    "df['Aircraft.damage'].value_counts()"
   ]
  },
  {
   "cell_type": "code",
   "execution_count": 25,
   "id": "ca5be865-1bc4-4ae8-b259-65a615295f3b",
   "metadata": {},
   "outputs": [],
   "source": [
    "# Simplify 'Report.Status'\n",
    "df['Report.Status'] = df['Report.Status'].apply(lambda x: 'Other' if isinstance(x, str) and len(x) > 20 else x)"
   ]
  },
  {
   "cell_type": "code",
   "execution_count": 26,
   "id": "c21d24e8-effc-4608-bd2e-a679b6aee16a",
   "metadata": {},
   "outputs": [],
   "source": [
    "df.fillna({'Report.Status': 'Unknown'}, inplace=True)"
   ]
  },
  {
   "cell_type": "code",
   "execution_count": 27,
   "id": "64d6701f-71b2-4c86-9c9d-5353b2df3cd6",
   "metadata": {},
   "outputs": [
    {
     "data": {
      "text/plain": [
       "Report.Status\n",
       "Probable Cause          61754\n",
       "Other                   18380\n",
       "Unknown                  6384\n",
       "Foreign                  1999\n",
       "<br /><br />              167\n",
       "Factual                   145\n",
       "None.                      17\n",
       ".                          16\n",
       "Preliminary                15\n",
       "Undetermined.               6\n",
       ";kh                         1\n",
       "X                           1\n",
       "a                           1\n",
       "NONE.                       1\n",
       "Not required for RA.        1\n",
       "A bird strike.              1\n",
       "Name: count, dtype: int64"
      ]
     },
     "execution_count": 27,
     "metadata": {},
     "output_type": "execute_result"
    }
   ],
   "source": [
    "df['Report.Status'].value_counts()"
   ]
  },
  {
   "cell_type": "code",
   "execution_count": 28,
   "id": "6b1676c7-8962-40fd-8d76-abd0349ab48c",
   "metadata": {},
   "outputs": [],
   "source": [
    "# Standardize 'Weather.Condition' values\n",
    "df['Weather.Condition'] = df['Weather.Condition'].replace({'UNK': 'Unknown', 'Unk': 'Unknown'})"
   ]
  },
  {
   "cell_type": "code",
   "execution_count": 29,
   "id": "69b698b3-0af7-4129-9d06-ec846e411fc3",
   "metadata": {},
   "outputs": [],
   "source": [
    "df.fillna({'Weather.Condition': 'Unknown'}, inplace=True)"
   ]
  },
  {
   "cell_type": "code",
   "execution_count": 30,
   "id": "42ffa11a-ee0d-4f10-b2c3-d085750f48a9",
   "metadata": {},
   "outputs": [
    {
     "data": {
      "text/plain": [
       "Weather.Condition\n",
       "VMC        77303\n",
       "IMC         5976\n",
       "Unknown     5610\n",
       "Name: count, dtype: int64"
      ]
     },
     "execution_count": 30,
     "metadata": {},
     "output_type": "execute_result"
    }
   ],
   "source": [
    "df['Weather.Condition'].value_counts()"
   ]
  },
  {
   "cell_type": "code",
   "execution_count": 31,
   "id": "40f8f88c-3089-45f9-ba74-1650fe78be6e",
   "metadata": {},
   "outputs": [
    {
     "data": {
      "text/plain": [
       "Event.Id                     0\n",
       "Event.Date                   0\n",
       "Aircraft.damage              0\n",
       "Aircraft.Category        56602\n",
       "Registration.Number       1382\n",
       "Make                        63\n",
       "Model                       92\n",
       "Number.of.Engines         6084\n",
       "Engine.Type               7096\n",
       "Purpose.of.flight         6192\n",
       "Weather.Condition            0\n",
       "Broad.phase.of.flight    27165\n",
       "Report.Status                0\n",
       "dtype: int64"
      ]
     },
     "execution_count": 31,
     "metadata": {},
     "output_type": "execute_result"
    }
   ],
   "source": [
    "df.isna().sum()"
   ]
  },
  {
   "cell_type": "code",
   "execution_count": 32,
   "id": "f30702fd-f6e2-4504-bb6c-dfa621125b13",
   "metadata": {},
   "outputs": [],
   "source": [
    "# Standardize 'Make' and 'Model'\n",
    "df['Make'] = df['Make'].str.strip().str.lower().fillna('unknown')\n",
    "df['Model'] = df['Model'].str.strip().str.lower().fillna('unknown')\n"
   ]
  },
  {
   "cell_type": "code",
   "execution_count": 33,
   "id": "5f1e5247-0ac8-4961-804a-833814e64112",
   "metadata": {},
   "outputs": [
    {
     "data": {
      "text/plain": [
       "Event.Id                     0\n",
       "Event.Date                   0\n",
       "Aircraft.damage              0\n",
       "Aircraft.Category        56602\n",
       "Registration.Number       1382\n",
       "Make                         0\n",
       "Model                        0\n",
       "Number.of.Engines         6084\n",
       "Engine.Type               7096\n",
       "Purpose.of.flight         6192\n",
       "Weather.Condition            0\n",
       "Broad.phase.of.flight    27165\n",
       "Report.Status                0\n",
       "dtype: int64"
      ]
     },
     "execution_count": 33,
     "metadata": {},
     "output_type": "execute_result"
    }
   ],
   "source": [
    "df.isna().sum()"
   ]
  },
  {
   "cell_type": "code",
   "execution_count": 34,
   "id": "04ac536c-e4bc-4be7-b1cd-5c0fe142e1ff",
   "metadata": {},
   "outputs": [],
   "source": [
    "# Standardize 'Purpose.of.flight'\n",
    "df['Purpose.of.flight'] = df['Purpose.of.flight'].replace({\n",
    "    'Public Aircraft': 'Public Aircraft - Other',\n",
    "    'Public Aircraft - Federal': 'Public Aircraft - Other',\n",
    "    'Public Aircraft - State': 'Public Aircraft - Other',\n",
    "    'Public Aircraft - Local': 'Public Aircraft - Other',\n",
    "    'Air Race/show': 'Air Race Show',\n",
    "    'Air Race show': 'Air Race Show'\n",
    "}).fillna('Unknown').str.strip().str.lower()\n"
   ]
  },
  {
   "cell_type": "code",
   "execution_count": 35,
   "id": "52708271-c849-4674-823f-f6999bb7ae34",
   "metadata": {},
   "outputs": [],
   "source": [
    "# Standardize 'Aircraft.damage'\n",
    "df['Aircraft.damage'] = df['Aircraft.damage'].fillna('Unknown').str.strip().str.lower()\n"
   ]
  },
  {
   "cell_type": "code",
   "execution_count": 36,
   "id": "a7c27a29-f64d-43fd-9da9-e2b1e1a7de05",
   "metadata": {},
   "outputs": [
    {
     "data": {
      "text/plain": [
       "Event.Id                     0\n",
       "Event.Date                   0\n",
       "Aircraft.damage              0\n",
       "Aircraft.Category        56602\n",
       "Registration.Number       1382\n",
       "Make                         0\n",
       "Model                        0\n",
       "Number.of.Engines         6084\n",
       "Engine.Type               7096\n",
       "Purpose.of.flight            0\n",
       "Weather.Condition            0\n",
       "Broad.phase.of.flight    27165\n",
       "Report.Status                0\n",
       "dtype: int64"
      ]
     },
     "execution_count": 36,
     "metadata": {},
     "output_type": "execute_result"
    }
   ],
   "source": [
    "df.isna().sum()"
   ]
  },
  {
   "cell_type": "code",
   "execution_count": 37,
   "id": "4e87ef3e-423a-4383-b803-3c52e6d2cf2f",
   "metadata": {},
   "outputs": [],
   "source": [
    "df.fillna({'Aircraft.Category': 'Unknown'}, inplace=True)"
   ]
  },
  {
   "cell_type": "code",
   "execution_count": 38,
   "id": "9d3a076e-59ce-4125-94cc-c231a93e2398",
   "metadata": {},
   "outputs": [],
   "source": [
    "df.fillna({'Broad.phase.of.flight': 'Unknown'}, inplace=True)"
   ]
  },
  {
   "cell_type": "code",
   "execution_count": 39,
   "id": "d98b88cb-de37-4b44-b517-db95c918cdf2",
   "metadata": {},
   "outputs": [
    {
     "data": {
      "text/plain": [
       "Event.Id                    0\n",
       "Event.Date                  0\n",
       "Aircraft.damage             0\n",
       "Aircraft.Category           0\n",
       "Registration.Number      1382\n",
       "Make                        0\n",
       "Model                       0\n",
       "Number.of.Engines        6084\n",
       "Engine.Type              7096\n",
       "Purpose.of.flight           0\n",
       "Weather.Condition           0\n",
       "Broad.phase.of.flight       0\n",
       "Report.Status               0\n",
       "dtype: int64"
      ]
     },
     "execution_count": 39,
     "metadata": {},
     "output_type": "execute_result"
    }
   ],
   "source": [
    "df.isna().sum()"
   ]
  },
  {
   "cell_type": "code",
   "execution_count": 40,
   "id": "9b4df9c4-84d9-444a-b355-b8ba19fd1e0e",
   "metadata": {},
   "outputs": [],
   "source": [
    "df.fillna({'Engine.Type': 'Unknown'},inplace = True)\n",
    "df.fillna({'Number.of.Engines': df['Number.of.Engines'].mean() }, inplace=True)"
   ]
  },
  {
   "cell_type": "code",
   "execution_count": 41,
   "id": "4a9244b9-65a2-40a7-af1d-7793f259a6e4",
   "metadata": {},
   "outputs": [
    {
     "data": {
      "text/plain": [
       "Event.Id                    0\n",
       "Event.Date                  0\n",
       "Aircraft.damage             0\n",
       "Aircraft.Category           0\n",
       "Registration.Number      1382\n",
       "Make                        0\n",
       "Model                       0\n",
       "Number.of.Engines           0\n",
       "Engine.Type                 0\n",
       "Purpose.of.flight           0\n",
       "Weather.Condition           0\n",
       "Broad.phase.of.flight       0\n",
       "Report.Status               0\n",
       "dtype: int64"
      ]
     },
     "execution_count": 41,
     "metadata": {},
     "output_type": "execute_result"
    }
   ],
   "source": [
    "df.isna().sum()"
   ]
  },
  {
   "cell_type": "code",
   "execution_count": 42,
   "id": "e3be9daa-cfb5-4341-8229-82498f144f82",
   "metadata": {},
   "outputs": [
    {
     "data": {
      "text/plain": [
       "0"
      ]
     },
     "execution_count": 42,
     "metadata": {},
     "output_type": "execute_result"
    }
   ],
   "source": [
    "df.duplicated().sum()"
   ]
  },
  {
   "cell_type": "code",
   "execution_count": 43,
   "id": "abe12e2b-fee8-427b-ac8d-e9446f6ad218",
   "metadata": {},
   "outputs": [
    {
     "data": {
      "text/html": [
       "<div>\n",
       "<style scoped>\n",
       "    .dataframe tbody tr th:only-of-type {\n",
       "        vertical-align: middle;\n",
       "    }\n",
       "\n",
       "    .dataframe tbody tr th {\n",
       "        vertical-align: top;\n",
       "    }\n",
       "\n",
       "    .dataframe thead th {\n",
       "        text-align: right;\n",
       "    }\n",
       "</style>\n",
       "<table border=\"1\" class=\"dataframe\">\n",
       "  <thead>\n",
       "    <tr style=\"text-align: right;\">\n",
       "      <th></th>\n",
       "      <th>Event.Id</th>\n",
       "      <th>Event.Date</th>\n",
       "      <th>Aircraft.damage</th>\n",
       "      <th>Aircraft.Category</th>\n",
       "      <th>Registration.Number</th>\n",
       "      <th>Make</th>\n",
       "      <th>Model</th>\n",
       "      <th>Number.of.Engines</th>\n",
       "      <th>Engine.Type</th>\n",
       "      <th>Purpose.of.flight</th>\n",
       "      <th>Weather.Condition</th>\n",
       "      <th>Broad.phase.of.flight</th>\n",
       "      <th>Report.Status</th>\n",
       "    </tr>\n",
       "  </thead>\n",
       "  <tbody>\n",
       "  </tbody>\n",
       "</table>\n",
       "</div>"
      ],
      "text/plain": [
       "Empty DataFrame\n",
       "Columns: [Event.Id, Event.Date, Aircraft.damage, Aircraft.Category, Registration.Number, Make, Model, Number.of.Engines, Engine.Type, Purpose.of.flight, Weather.Condition, Broad.phase.of.flight, Report.Status]\n",
       "Index: []"
      ]
     },
     "execution_count": 43,
     "metadata": {},
     "output_type": "execute_result"
    }
   ],
   "source": [
    "df[df.duplicated(keep =False)]"
   ]
  },
  {
   "cell_type": "code",
   "execution_count": 44,
   "id": "62ff7b8f-fdc1-4bb5-a8d7-b272544f9a92",
   "metadata": {},
   "outputs": [],
   "source": [
    "df = df.drop_duplicates()"
   ]
  },
  {
   "cell_type": "code",
   "execution_count": 45,
   "id": "bff15d06-4d24-44e4-a5a4-76b43bb3c0a0",
   "metadata": {},
   "outputs": [
    {
     "data": {
      "text/plain": [
       "0"
      ]
     },
     "execution_count": 45,
     "metadata": {},
     "output_type": "execute_result"
    }
   ],
   "source": [
    "df.duplicated().sum()"
   ]
  },
  {
   "cell_type": "code",
   "execution_count": 48,
   "id": "ce74f06e-27fb-4dc3-b82f-d4af93720d53",
   "metadata": {},
   "outputs": [
    {
     "data": {
      "text/plain": [
       "Registration.Number\n",
       "NONE      344\n",
       "UNREG     126\n",
       "UNK        13\n",
       "USAF        9\n",
       "N20752      8\n",
       "         ... \n",
       "N93478      1\n",
       "N519UA      1\n",
       "N8840W      1\n",
       "N21040      1\n",
       "N9026P      1\n",
       "Name: count, Length: 79104, dtype: int64"
      ]
     },
     "execution_count": 48,
     "metadata": {},
     "output_type": "execute_result"
    }
   ],
   "source": [
    "df['Registration.Number'].value_counts()"
   ]
  },
  {
   "cell_type": "code",
   "execution_count": 50,
   "id": "cad8d1af-16e8-44d2-b446-a6d3cc33f451",
   "metadata": {},
   "outputs": [
    {
     "data": {
      "text/plain": [
       "Event.Id\n",
       "20001212X19172    3\n",
       "20001214X45071    3\n",
       "20220730105623    2\n",
       "20051213X01965    2\n",
       "20001212X16765    2\n",
       "                 ..\n",
       "20001211X14216    1\n",
       "20001211X14239    1\n",
       "20001211X14207    1\n",
       "20001211X14204    1\n",
       "20221230106513    1\n",
       "Name: count, Length: 87951, dtype: int64"
      ]
     },
     "execution_count": 50,
     "metadata": {},
     "output_type": "execute_result"
    }
   ],
   "source": [
    "df['Event.Id'].value_counts()"
   ]
  },
  {
   "cell_type": "code",
   "execution_count": 51,
   "id": "b32b0cf5-9978-45c9-880a-c930a789dc04",
   "metadata": {},
   "outputs": [
    {
     "data": {
      "text/plain": [
       "0"
      ]
     },
     "execution_count": 51,
     "metadata": {},
     "output_type": "execute_result"
    }
   ],
   "source": [
    "df.duplicated().sum()"
   ]
  },
  {
   "cell_type": "code",
   "execution_count": 53,
   "id": "69d7d7a6-98a9-4116-bfd3-30a0938b4591",
   "metadata": {},
   "outputs": [],
   "source": [
    "df.fillna({'Registration.Number': 'Unknown'},inplace = True)"
   ]
  },
  {
   "cell_type": "code",
   "execution_count": 54,
   "id": "bc381cc8-3974-4702-ac0a-780a236d6432",
   "metadata": {},
   "outputs": [
    {
     "data": {
      "text/plain": [
       "Event.Id                 0\n",
       "Event.Date               0\n",
       "Aircraft.damage          0\n",
       "Aircraft.Category        0\n",
       "Registration.Number      0\n",
       "Make                     0\n",
       "Model                    0\n",
       "Number.of.Engines        0\n",
       "Engine.Type              0\n",
       "Purpose.of.flight        0\n",
       "Weather.Condition        0\n",
       "Broad.phase.of.flight    0\n",
       "Report.Status            0\n",
       "dtype: int64"
      ]
     },
     "execution_count": 54,
     "metadata": {},
     "output_type": "execute_result"
    }
   ],
   "source": [
    "df.isna().sum()"
   ]
  },
  {
   "cell_type": "markdown",
   "id": "026a3c05-e4d3-4f5e-baa9-ff8b2d595e9d",
   "metadata": {},
   "source": [
    "At this point the data has no missing value"
   ]
  },
  {
   "cell_type": "markdown",
   "id": "cc305279-c613-4d41-ba7b-d99c3c937f5f",
   "metadata": {},
   "source": [
    "## Summary of cleaned dataframe"
   ]
  },
  {
   "cell_type": "code",
   "execution_count": 55,
   "id": "254f392d-c741-4862-9b6e-9996d3a72299",
   "metadata": {},
   "outputs": [
    {
     "name": "stdout",
     "output_type": "stream",
     "text": [
      "<class 'pandas.core.frame.DataFrame'>\n",
      "RangeIndex: 88889 entries, 0 to 88888\n",
      "Data columns (total 13 columns):\n",
      " #   Column                 Non-Null Count  Dtype  \n",
      "---  ------                 --------------  -----  \n",
      " 0   Event.Id               88889 non-null  object \n",
      " 1   Event.Date             88889 non-null  object \n",
      " 2   Aircraft.damage        88889 non-null  object \n",
      " 3   Aircraft.Category      88889 non-null  object \n",
      " 4   Registration.Number    88889 non-null  object \n",
      " 5   Make                   88889 non-null  object \n",
      " 6   Model                  88889 non-null  object \n",
      " 7   Number.of.Engines      88889 non-null  float64\n",
      " 8   Engine.Type            88889 non-null  object \n",
      " 9   Purpose.of.flight      88889 non-null  object \n",
      " 10  Weather.Condition      88889 non-null  object \n",
      " 11  Broad.phase.of.flight  88889 non-null  object \n",
      " 12  Report.Status          88889 non-null  object \n",
      "dtypes: float64(1), object(12)\n",
      "memory usage: 8.8+ MB\n"
     ]
    }
   ],
   "source": [
    "df.info()"
   ]
  },
  {
   "cell_type": "code",
   "execution_count": 56,
   "id": "9b251120-55b6-41e9-9bdc-d73b7169c2e0",
   "metadata": {},
   "outputs": [
    {
     "data": {
      "text/html": [
       "<div>\n",
       "<style scoped>\n",
       "    .dataframe tbody tr th:only-of-type {\n",
       "        vertical-align: middle;\n",
       "    }\n",
       "\n",
       "    .dataframe tbody tr th {\n",
       "        vertical-align: top;\n",
       "    }\n",
       "\n",
       "    .dataframe thead th {\n",
       "        text-align: right;\n",
       "    }\n",
       "</style>\n",
       "<table border=\"1\" class=\"dataframe\">\n",
       "  <thead>\n",
       "    <tr style=\"text-align: right;\">\n",
       "      <th></th>\n",
       "      <th>Number.of.Engines</th>\n",
       "    </tr>\n",
       "  </thead>\n",
       "  <tbody>\n",
       "    <tr>\n",
       "      <th>count</th>\n",
       "      <td>88889.000000</td>\n",
       "    </tr>\n",
       "    <tr>\n",
       "      <th>mean</th>\n",
       "      <td>1.146585</td>\n",
       "    </tr>\n",
       "    <tr>\n",
       "      <th>std</th>\n",
       "      <td>0.430959</td>\n",
       "    </tr>\n",
       "    <tr>\n",
       "      <th>min</th>\n",
       "      <td>0.000000</td>\n",
       "    </tr>\n",
       "    <tr>\n",
       "      <th>25%</th>\n",
       "      <td>1.000000</td>\n",
       "    </tr>\n",
       "    <tr>\n",
       "      <th>50%</th>\n",
       "      <td>1.000000</td>\n",
       "    </tr>\n",
       "    <tr>\n",
       "      <th>75%</th>\n",
       "      <td>1.000000</td>\n",
       "    </tr>\n",
       "    <tr>\n",
       "      <th>max</th>\n",
       "      <td>8.000000</td>\n",
       "    </tr>\n",
       "  </tbody>\n",
       "</table>\n",
       "</div>"
      ],
      "text/plain": [
       "       Number.of.Engines\n",
       "count       88889.000000\n",
       "mean            1.146585\n",
       "std             0.430959\n",
       "min             0.000000\n",
       "25%             1.000000\n",
       "50%             1.000000\n",
       "75%             1.000000\n",
       "max             8.000000"
      ]
     },
     "execution_count": 56,
     "metadata": {},
     "output_type": "execute_result"
    }
   ],
   "source": [
    "df.describe()"
   ]
  },
  {
   "cell_type": "markdown",
   "id": "cce439f3-7a0e-4f74-8d59-7e7bbebf9daa",
   "metadata": {},
   "source": [
    "# Initial Exploratory Data Analysis"
   ]
  },
  {
   "cell_type": "code",
   "execution_count": 59,
   "id": "d1b9491c-1cfe-4146-a468-73786816f893",
   "metadata": {},
   "outputs": [
    {
     "data": {
      "image/png": "[encoded data removed]",
      "text/plain": [
       "<Figure size 640x480 with 1 Axes>"
      ]
     },
     "metadata": {},
     "output_type": "display_data"
    }
   ],
   "source": [
    "# Distribution of aircraft damage\n",
    "sns.countplot(data=df, x='Aircraft.damage')\n",
    "plt.title('Distribution of Aircraft Damage')\n",
    "plt.show()\n"
   ]
  },
  {
   "cell_type": "code",
   "execution_count": 62,
   "id": "fa593a21-adbd-4788-a12e-023704964e9d",
   "metadata": {},
   "outputs": [
    {
     "data": {
      "image/png": "[encoded data removed]",
      "text/plain": [
       "<Figure size 640x480 with 1 Axes>"
      ]
     },
     "metadata": {},
     "output_type": "display_data"
    }
   ],
   "source": [
    "# Distribution of weather conditions\n",
    "sns.countplot(data=df, x='Weather.Condition')\n",
    "plt.title('Distribution of Weather Conditions')\n",
    "plt.show()"
   ]
  },
  {
   "cell_type": "code",
   "execution_count": null,
   "id": "a802b131-33f3-49c2-83c4-2d38863ea705",
   "metadata": {},
   "outputs": [],
   "source": []
  }
 ],
 "metadata": {
  "kernelspec": {
   "display_name": "Python (learn-env)",
   "language": "python",
   "name": "learn-env"
  },
  "language_info": {
   "codemirror_mode": {
    "name": "ipython",
    "version": 3
   },
   "file_extension": ".py",
   "mimetype": "text/x-python",
   "name": "python",
   "nbconvert_exporter": "python",
   "pygments_lexer": "ipython3",
   "version": "3.11.9"
  }
 },
 "nbformat": 4,
 "nbformat_minor": 5
}
